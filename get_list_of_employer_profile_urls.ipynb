{
 "cells": [
  {
   "cell_type": "markdown",
   "metadata": {
    "id": "NFQIIfKPjve4"
   },
   "source": [
    "# Getting List of Employer Profile URLs\n",
    "\n",
    "\n",
    "The Kununu [sitemap](https://www.kununu.com/de/sitemap) contains links to lists of lists of company profiles:\n",
    "\n",
    "<img src=\"images/sitemap.png\" width=\"500\"/>\n",
    "<br>\n",
    "\n",
    "Clicking on 'A' leads to:\n",
    "\n",
    "<img src=\"images/sitemap_A.png\" width=\"500\"/>\n",
    "<br>\n",
    "\n",
    "Clicking on 'A1' leads to:\n",
    "\n",
    "<img src=\"images/sitemap_A1.png\" width=\"500\"/>\n",
    "\n",
    "We can therefore obtain all links to company profiles by scraping all 3 levels of the sitemap.\n",
    "\n",
    "The first two levels (corresponding to the first two images above) can quickly  be scraped sequentially, while the third is scraped in parallel for efficiency. The scraping should take ~5 minutes."
   ]
  },
  {
   "cell_type": "code",
   "execution_count": null,
   "metadata": {
    "id": "cC63_nlhgPBx"
   },
   "outputs": [],
   "source": [
    "# !pip install requests beautifulsoup4 python-dotenv\n",
    "\n",
    "from multiprocessing.dummy import Pool as ThreadPool\n",
    "from tqdm import tqdm\n",
    "from random import shuffle\n",
    "import requests\n",
    "from bs4 import BeautifulSoup\n",
    "import os\n",
    "from dotenv import load_dotenv\n",
    "from utils import *\n",
    "\n",
    "load_dotenv() # make sure to have a .env file that defines the variable 'SCRAPINGBEE_API_KEY' if using scrapingbee"
   ]
  },
  {
   "cell_type": "code",
   "execution_count": null,
   "metadata": {
    "id": "MfrojBMC_UUY"
   },
   "outputs": [],
   "source": [
    "# getting all urls from level 1 of the sitemap (see image 1 above)\n",
    "level1_urls = get_all_links_from_div(\"https://www.kununu.com/de/sitemap\", \"CategoryLevel_letterContainer__pUMeY\", \"https://www.kununu.com/\")\n",
    "\n",
    "# getting all urls from level 2 of the sitemap (see image 1 above)\n",
    "level2_urls = []\n",
    "for url in level1_urls:\n",
    "    level2_urls += get_all_links_from_div(url, \"PaginationLevel_container__dLOfo\", \"https://www.kununu.com/de/sitemap/\")\n",
    "\n",
    "# # getting all urls from level 3 of the sitemap (see image 1 above)\n",
    "concurrency = 8\n",
    "with ThreadPool(concurrency) as pool:\n",
    "    all_kununu_employer_urls = list(tqdm(pool.imap(get_all_links_from_div, level2_urls), total=len(level2_urls)))\n",
    "\n",
    "# saving all urls to data/all_kununu_links.txt\n",
    "all_kununu_employer_urls = [item for sublist in all_kununu_employer_urls for item in sublist] # flatten list\n",
    "shuffle(all_kununu_employer_urls)       \n",
    "with open('data/all_kununu_company_profile_links.txt', 'w') as f:\n",
    "    for line in all_kununu_employer_urls:\n",
    "        f.write(f\"{line}\\n\")"
   ]
  }
 ],
 "metadata": {
  "colab": {
   "collapsed_sections": [
    "vlh9acpqLAmT"
   ],
   "machine_shape": "hm",
   "provenance": []
  },
  "gpuClass": "standard",
  "kernelspec": {
   "display_name": "Python 3",
   "language": "python",
   "name": "python3"
  },
  "language_info": {
   "codemirror_mode": {
    "name": "ipython",
    "version": 3
   },
   "file_extension": ".py",
   "mimetype": "text/x-python",
   "name": "python",
   "nbconvert_exporter": "python",
   "pygments_lexer": "ipython3",
   "version": "3.12.0"
  }
 },
 "nbformat": 4,
 "nbformat_minor": 0
}
